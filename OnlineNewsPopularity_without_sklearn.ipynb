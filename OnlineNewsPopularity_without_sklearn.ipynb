{
 "cells": [
  {
   "cell_type": "code",
   "execution_count": 1,
   "metadata": {},
   "outputs": [],
   "source": [
    "import pandas as pd\n",
    "import numpy as np"
   ]
  },
  {
   "cell_type": "code",
   "execution_count": 2,
   "metadata": {},
   "outputs": [],
   "source": [
    "#Normaliztion \n",
    "def Normaliztion(x):\n",
    "    X_normal = x\n",
    "    M = np.zeros((1,2))\n",
    "    S = np.zeros((1,2))\n",
    "    #convert the x features into numpy matrix\n",
    "    newx = np.matrix(x)\n",
    "    # find the mean and the standard diviation of the features\n",
    "    X_normal =  np.divide(np.subtract(x , newx.mean(0)), newx.std(0))\n",
    "    return X_normal , M , S"
   ]
  },
  {
   "cell_type": "code",
   "execution_count": 3,
   "metadata": {},
   "outputs": [],
   "source": [
    "Dataset =  pd.read_csv('OnlineNewsPopularity/OnlineNewsPopularity.csv')\n",
    "\n",
    "m , n = Dataset.shape\n",
    "X = Dataset.iloc[:,2:-1]\n",
    "Y = Dataset.iloc[:,[n-1]]\n",
    "Y_len = len(Y) \n",
    "\n",
    "# initialize the mean and std matrix\n",
    "mean = np.zeros((1,n))\n",
    "std  = np.zeros((1,n))\n",
    "\n",
    "#call the method Normaliztion and gets the new dependent features\n",
    "X, mean, std = Normaliztion(X)\n",
    "\n",
    "# add one's column in the features\n",
    "X = np.hstack((np.ones((Y_len,1)),X))\n"
   ]
  },
  {
   "cell_type": "code",
   "execution_count": 4,
   "metadata": {},
   "outputs": [],
   "source": [
    "#Computer the Cost Function\n",
    "def ComputeCostFunction(x, y, theta):\n",
    "    m = len(y)\n",
    "    cost = 0\n",
    "    error = 0\n",
    "    i = 0\n",
    "    while(i < m):\n",
    "        error = error + np.power(np.matmul(np.transpose(theta),np.transpose(x[i]))-y.iloc[[i],:],2)\n",
    "        i = i + 1\n",
    "    return error / (2*m)"
   ]
  },
  {
   "cell_type": "code",
   "execution_count": 5,
   "metadata": {},
   "outputs": [],
   "source": [
    "def Gradient_Descent(X,Y,theta,alpha,iterations):\n",
    "        m = len(Y)\n",
    "        cost_history = np.zeros((iterations,1))\n",
    "        index = 0\n",
    "        while(index<iterations):\n",
    "            theta = np.subtract(theta , np.multiply((alpha/m),np.matmul(np.transpose(X),np.subtract(np.matmul(X,theta), Y))))\n",
    "            cost_history[index] = ComputeCostFunction(X,Y,theta)\n",
    "            index = index+1\n",
    "        return theta , cost_history"
   ]
  },
  {
   "cell_type": "code",
   "execution_count": 6,
   "metadata": {},
   "outputs": [],
   "source": [
    "#set alpha's value\n",
    "alpha = 0.01\n",
    "#set number of iterations \n",
    "iterations = 200\n",
    "#initialize theta and cost function\n",
    "theta = np.zeros((X.shape[1],1))\n",
    "cost_function = np.zeros((iterations,1))\n",
    "\n",
    "# run Gradient Descent \n",
    "theta , cost_function = Gradient_Descent(X,Y,theta,alpha,iterations)\n"
   ]
  },
  {
   "cell_type": "code",
   "execution_count": 8,
   "metadata": {},
   "outputs": [
    {
     "data": {
      "image/png": "[encoded data removed]",
      "text/plain": [
       "<Figure size 432x288 with 1 Axes>"
      ]
     },
     "metadata": {
      "needs_background": "light"
     },
     "output_type": "display_data"
    }
   ],
   "source": [
    "import matplotlib.pyplot as plt\n",
    "# Plot Cost Function \n",
    "plt.plot(cost_function)\n",
    "plt.ylabel('Number of iterations')\n",
    "plt.xlabel('Cost J')\n",
    "plt.show()"
   ]
  },
  {
   "cell_type": "code",
   "execution_count": null,
   "metadata": {},
   "outputs": [],
   "source": []
  }
 ],
 "metadata": {
  "kernelspec": {
   "display_name": "Python 3",
   "language": "python",
   "name": "python3"
  },
  "language_info": {
   "codemirror_mode": {
    "name": "ipython",
    "version": 3
   },
   "file_extension": ".py",
   "mimetype": "text/x-python",
   "name": "python",
   "nbconvert_exporter": "python",
   "pygments_lexer": "ipython3",
   "version": "3.7.1"
  }
 },
 "nbformat": 4,
 "nbformat_minor": 2
}
